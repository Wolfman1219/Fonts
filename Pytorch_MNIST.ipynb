{
  "nbformat": 4,
  "nbformat_minor": 0,
  "metadata": {
    "colab": {
      "name": "Untitled8.ipynb",
      "private_outputs": true,
      "provenance": [],
      "collapsed_sections": [],
      "mount_file_id": "1lVQppUwoeoPZMWgd5XBZnxQH2U8WlvKa",
      "authorship_tag": "ABX9TyM9PG2bkw+0r+ztHqewaMNy",
      "include_colab_link": true
    },
    "kernelspec": {
      "name": "python3",
      "display_name": "Python 3"
    },
    "language_info": {
      "name": "python"
    }
  },
  "cells": [
    {
      "cell_type": "markdown",
      "metadata": {
        "id": "view-in-github",
        "colab_type": "text"
      },
      "source": [
        "<a href=\"https://colab.research.google.com/github/Wolfman1219/Fonts/blob/main/Pytorch_MNIST.ipynb\" target=\"_parent\"><img src=\"https://colab.research.google.com/assets/colab-badge.svg\" alt=\"Open In Colab\"/></a>"
      ]
    },
    {
      "cell_type": "code",
      "metadata": {
        "id": "twPB0QXGSz9B"
      },
      "source": [
        "import torch\n",
        "from torch import nn, optim, from_numpy, save\n",
        "from torchvision import datasets, transforms\n",
        "from torch.utils import data\n",
        "import matplotlib.pyplot as plt\n",
        "import cv2\n",
        "import numpy as np"
      ],
      "execution_count": null,
      "outputs": []
    },
    {
      "cell_type": "code",
      "metadata": {
        "id": "QT6TyRzVTnwJ"
      },
      "source": [
        "device = 'cpu'\n",
        "batc = 64\n",
        "trn_dts = datasets.MNIST(root ='/content/drive/MyDrive/dataset_uchun/mnist_data',\n",
        "                         train = True,\n",
        "                         transform = transforms.ToTensor(),\n",
        "                         download = True)\n",
        "tst_dts = datasets.MNIST(root = '/content/drive/MyDrive/dataset_uchun/mnist_data',\n",
        "                         train = False,\n",
        "                         transform = transforms.ToTensor())\n",
        "trn_dt = data.DataLoader(trn_dts, batch_size = batc, shuffle = True)\n",
        "tst_dt = data.DataLoader(tst_dts, batch_size = batc, shuffle = False)\n",
        "\n",
        "\n",
        "class Model(nn.Module):\n",
        "    def __init__(self):\n",
        "        super().__init__()\n",
        "        self.l1 = nn.Linear(784,520)\n",
        "        self.l2 = nn.Linear(520,320)\n",
        "        self.l3 = nn.Linear(320,240)\n",
        "        self.l4 = nn.Linear(240,120)\n",
        "        self.l5 = nn.Linear(120,10)\n",
        "        self.relu = nn.ReLU()\n",
        "        \n",
        "    def forward(self,x):\n",
        "        x = x.view(-1,784)\n",
        "        x = self.relu(self.l1(x))\n",
        "        x = self.relu(self.l2(x))\n",
        "        x = self.relu(self.l3(x))\n",
        "        x = self.relu(self.l4(x))\n",
        "        return self.l5(x)\n",
        "model = Model()\n",
        "model.to(device)\n",
        "\n",
        "crtrn = nn.CrossEntropyLoss()\n",
        "optimize = optim.SGD(model.parameters(), lr = 0.01, momentum = 0.5)\n",
        "\n",
        "def train(epoch):\n",
        "  model.train()\n",
        "  for b_i, data_ in enumerate(trn_dt):\n",
        "    data_, label = data_[0].to(device), data_[1].to(device)\n",
        "    optimize.zero_grad()\n",
        "    bashorat = model(data_)\n",
        "    xato = crtrn(bashorat, label)\n",
        "    xato.backward()\n",
        "    optimize.step()\n",
        "\n",
        "    if b_i % 10 == 0:\n",
        "      print(f\"Epoch - {epoch+1} | Batch - {b_i} {b_i*len(data_)/len(trn_dt.dataset)} \\\n",
        "      | Loss: {xato.item()}\")\n",
        "\n",
        "def test():\n",
        "  model.eval()\n",
        "  Xato = 0; Togri = 0\n",
        "  for rasm, label in tst_dt:\n",
        "    rasm, label = rasm.to(device), label.to(device)\n",
        "    bashorat = model(rasm)\n",
        "    Xato += crtrn(bashorat, label).item()\n",
        "    natija = bashorat.data.max(1, keepdim = True)[1]\n",
        "    Togri += natija.eq(label.data.view_as(natija)).cpu().sum()\n",
        "  Xato /= (len(tst_dt.dataset))\n",
        "  print(f\"Aniqlik : {Togri / len(tst_dt.dataset)}, Foizda{100.0 * Togri / len(tst_dt.dataset)}%\")\n",
        "\n",
        "for epoch in range(10):\n",
        "  train(epoch)\n",
        "  test()\n",
        "save(model.state_dict(), 'Abduraxim.h5')\n"
      ],
      "execution_count": null,
      "outputs": []
    },
    {
      "cell_type": "code",
      "metadata": {
        "id": "C5iiCGenzTZk"
      },
      "source": [
        ""
      ],
      "execution_count": null,
      "outputs": []
    }
  ]
}