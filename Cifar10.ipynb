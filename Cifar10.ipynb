{
  "nbformat": 4,
  "nbformat_minor": 0,
  "metadata": {
    "colab": {
      "name": "Cifar10.ipynb",
      "private_outputs": true,
      "provenance": [],
      "collapsed_sections": [],
      "mount_file_id": "1uHoFwIiXzfsqlr8NIaDHI2q5ecBaowIo",
      "authorship_tag": "ABX9TyOw8Xqk0tvq23cp01HIuqe3",
      "include_colab_link": true
    },
    "kernelspec": {
      "name": "python3",
      "display_name": "Python 3"
    },
    "language_info": {
      "name": "python"
    }
  },
  "cells": [
    {
      "cell_type": "markdown",
      "metadata": {
        "id": "view-in-github",
        "colab_type": "text"
      },
      "source": [
        "<a href=\"https://colab.research.google.com/github/Wolfman1219/Fonts/blob/main/Cifar10.ipynb\" target=\"_parent\"><img src=\"https://colab.research.google.com/assets/colab-badge.svg\" alt=\"Open In Colab\"/></a>"
      ]
    },
    {
      "cell_type": "code",
      "execution_count": null,
      "metadata": {
        "id": "Kj2n4urMs81z"
      },
      "outputs": [],
      "source": [
        "import matplotlib.pyplot as plt\n",
        "import tensorflow.keras as ks\n",
        "import numpy as np"
      ]
    },
    {
      "cell_type": "code",
      "source": [
        "(x_train, y_train), (x_test, y_test) = ks.datasets.cifar10.load_data()"
      ],
      "metadata": {
        "id": "ZemP8GXUyNWw"
      },
      "execution_count": null,
      "outputs": []
    },
    {
      "cell_type": "code",
      "source": [
        "x_train = x_train.astype('float32') / 255.0\n",
        "#y_train = y_train.astype('float32') / 255.0\n",
        "\n",
        "x_test = x_test.astype('float32') / 255.0\n",
        "#y_test = y_test.astype('float32') / 255.0"
      ],
      "metadata": {
        "id": "iTvoJZA2yb47"
      },
      "execution_count": null,
      "outputs": []
    },
    {
      "cell_type": "code",
      "source": [
        "y_train.shape"
      ],
      "metadata": {
        "id": "o2_Z3L2X15eO"
      },
      "execution_count": null,
      "outputs": []
    },
    {
      "cell_type": "code",
      "source": [
        "print(y_test[0])"
      ],
      "metadata": {
        "id": "qzQ_OODqvNer"
      },
      "execution_count": null,
      "outputs": []
    },
    {
      "cell_type": "code",
      "source": [
        "y_test.shape"
      ],
      "metadata": {
        "id": "EgINyB9719_z"
      },
      "execution_count": null,
      "outputs": []
    },
    {
      "cell_type": "code",
      "source": [
        "model = ks.models.Sequential([\n",
        "                              ks.layers.Conv2D(64, (3, 3), padding = 'same', input_shape = (32, 32, 3), activation = 'relu'),\n",
        "                              ks.layers.BatchNormalization(),\n",
        "                              ks.layers.MaxPooling2D((2, 2)),\n",
        "                \n",
        "                              ks.layers.Dropout(0.2),\n",
        "                              ks.layers.Conv2D(128, (3, 3), padding = 'same', activation = 'relu'),\n",
        "                              ks.layers.BatchNormalization(),                             \n",
        "                              ks.layers.MaxPooling2D((2, 2)),\n",
        "                              ks.layers.Dropout(0.5),\n",
        "                              ks.layers.Flatten(),\n",
        "                              ks.layers.Dense(128, activation = 'relu'),\n",
        "                              ks.layers.Dense(64, activation = 'relu'),\n",
        "                              ks.layers.Dense(10, activation = 'softmax')\n",
        "\n",
        "                              \n",
        "                              ])"
      ],
      "metadata": {
        "id": "JBXki1AVzRQP"
      },
      "execution_count": null,
      "outputs": []
    },
    {
      "cell_type": "code",
      "source": [
        "model.compile(optimizer = 'adam', loss = 'sparse_categorical_crossentropy', metrics = ['accuracy'])"
      ],
      "metadata": {
        "id": "ygoFbI_R1WvX"
      },
      "execution_count": null,
      "outputs": []
    },
    {
      "cell_type": "code",
      "source": [
        "model.fit(x_train, y_train, epochs = 5)"
      ],
      "metadata": {
        "id": "7OWwU4GY3SUN"
      },
      "execution_count": null,
      "outputs": []
    },
    {
      "cell_type": "code",
      "source": [
        "model.evaluate(x_test, y_test)"
      ],
      "metadata": {
        "id": "_nTD-8BR4fXK"
      },
      "execution_count": null,
      "outputs": []
    },
    {
      "cell_type": "code",
      "source": [
        "n = 22\n",
        "print(np.argmax(model.predict(np.expand_dims(x_test[n], axis = 0))))\n",
        "print(y_test[n])\n",
        "plt.imshow(x_test[n])"
      ],
      "metadata": {
        "id": "6OwovTZPM3ZA"
      },
      "execution_count": null,
      "outputs": []
    },
    {
      "cell_type": "code",
      "source": [
        "model.save('/content/drive/MyDrive/modelim.h5')"
      ],
      "metadata": {
        "id": "k-f5jMyawtgS"
      },
      "execution_count": null,
      "outputs": []
    }
  ]
}