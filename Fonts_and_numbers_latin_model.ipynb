{
  "nbformat": 4,
  "nbformat_minor": 0,
  "metadata": {
    "colab": {
      "name": "Fonts_and_numbers_latin_model.ipynb",
      "private_outputs": true,
      "provenance": [],
      "collapsed_sections": [],
      "mount_file_id": "1DTfqquQIn93lBSxiX53a3b7ZiWI3Z3Pi",
      "authorship_tag": "ABX9TyNWciZchPVxodUYMtnamxKp",
      "include_colab_link": true
    },
    "kernelspec": {
      "name": "python3",
      "display_name": "Python 3"
    },
    "language_info": {
      "name": "python"
    }
  },
  "cells": [
    {
      "cell_type": "markdown",
      "metadata": {
        "id": "view-in-github",
        "colab_type": "text"
      },
      "source": [
        "<a href=\"https://colab.research.google.com/github/Wolfman1219/Fonts/blob/main/Fonts_and_numbers_latin_model.ipynb\" target=\"_parent\"><img src=\"https://colab.research.google.com/assets/colab-badge.svg\" alt=\"Open In Colab\"/></a>"
      ]
    },
    {
      "cell_type": "code",
      "execution_count": null,
      "metadata": {
        "id": "x7dwiB5XxRAA"
      },
      "outputs": [],
      "source": [
        "import numpy as np\n",
        "import cv2\n",
        "import tensorflow.keras as ks\n",
        "import tensorflow\n",
        "import pandas as pd\n",
        "from glob import glob\n",
        "import os\n",
        "import matplotlib.pyplot as plt\n",
        "from sklearn.model_selection import train_test_split"
      ]
    },
    {
      "cell_type": "code",
      "source": [
        "# dataset uchun papka\n",
        "# https://drive.google.com/file/d/1caeKXPelvHO7FqRvr21S3k9J1CrawcFn/view?usp=sharing\n",
        "\n",
        "path = '/content/drive/MyDrive/dataset_uchun/Font/Font/'\n",
        "os.chdir('/content/drive/MyDrive/dataset_uchun/Font/Font')\n",
        "print(os.listdir())"
      ],
      "metadata": {
        "id": "rltSW8gIyv6E"
      },
      "execution_count": null,
      "outputs": []
    },
    {
      "cell_type": "code",
      "source": [
        "data = {}\n",
        "for i in os.listdir():\n",
        "  print(i)\n",
        "  cv_img = []\n",
        "  for img in glob(path+i+'/*.png'):\n",
        "      n = cv2.imread(img)\n",
        "      cv_img.append(n)\n",
        "  data[i] = cv_img  \n"
      ],
      "metadata": {
        "id": "Y0jDgC-50pLe"
      },
      "execution_count": null,
      "outputs": []
    },
    {
      "cell_type": "code",
      "source": [
        "print(len(data))"
      ],
      "metadata": {
        "id": "c08w-l101yGf"
      },
      "execution_count": null,
      "outputs": []
    },
    {
      "cell_type": "code",
      "source": [
        "data['Sample001'][0].shape"
      ],
      "metadata": {
        "id": "XC-qUunKApJV"
      },
      "execution_count": null,
      "outputs": []
    },
    {
      "cell_type": "code",
      "source": [
        "plt.imshow(data['Sample045'][1000])"
      ],
      "metadata": {
        "id": "1GcSh4HFBMGM"
      },
      "execution_count": null,
      "outputs": []
    },
    {
      "cell_type": "code",
      "source": [
        "data2 = {}\n",
        "s = 0\n",
        "for i in os.listdir():\n",
        "  data2[i] = s\n",
        "  s = s + 1\n"
      ],
      "metadata": {
        "id": "6rnmJin1vfPo"
      },
      "execution_count": null,
      "outputs": []
    },
    {
      "cell_type": "code",
      "source": [
        "x_data = []\n",
        "y_data = []\n",
        "for i, j in data.items():\n",
        "  for rasm in j:\n",
        "    x_data.append(rasm)\n",
        "    y_data.append(data2[i])"
      ],
      "metadata": {
        "id": "QCEJdgMR_f5q"
      },
      "execution_count": null,
      "outputs": []
    },
    {
      "cell_type": "code",
      "source": [
        "x_data = np.array(x_data)\n",
        "y_data = np.array(y_data)\n",
        "# x_data = x_data.astype() / 255"
      ],
      "metadata": {
        "id": "S7MOOc1bAQA8"
      },
      "execution_count": null,
      "outputs": []
    },
    {
      "cell_type": "code",
      "source": [
        "x_train, x_test, y_train, y_test = train_test_split(x_data, y_data, test_size = 0.2, random_state = 42)\n",
        "# x_train = x_train / 255\n",
        "# y_train = y_train / 255"
      ],
      "metadata": {
        "id": "mbjkQdynCljd"
      },
      "execution_count": null,
      "outputs": []
    },
    {
      "cell_type": "code",
      "source": [
        "y_test.shape"
      ],
      "metadata": {
        "id": "JCZubX_JGZar"
      },
      "execution_count": null,
      "outputs": []
    },
    {
      "cell_type": "code",
      "source": [
        "model = ks.Sequential([\n",
        "                      # ks.layers.Rescaling(scale = 1./255),\n",
        "                      ks.layers.Conv2D(32, (3, 3), padding = 'same', input_shape = (128, 128, 3),  activation = 'relu'),\n",
        "                      # ks.layers.BatchNormalization(),\n",
        "                      ks.layers.MaxPooling2D((2, 2)),\n",
        "\n",
        "                      ks.layers.Conv2D(64, (3, 3), padding = 'same',  activation = 'relu'),\n",
        "                      # ks.layers.BatchNormalization(),\n",
        "                      ks.layers.MaxPooling2D((2, 2)),\n",
        "\n",
        "                      ks.layers.Conv2D(128, (3, 3), padding = 'same', activation = 'relu'),\n",
        "                      # ks.layers.BatchNormalization(),\n",
        "                      ks.layers.MaxPooling2D((2, 2)),\n",
        "\n",
        "                      ks.layers.Flatten(),\n",
        "                      ks.layers.Dense(128, activation = 'relu'),\n",
        "                      # ks.layers.Dense(64, activation = 'relu'),\n",
        "                      ks.layers.Dense(62, activation = 'softmax')\n",
        "])"
      ],
      "metadata": {
        "id": "6l2M4gBbDpLF"
      },
      "execution_count": null,
      "outputs": []
    },
    {
      "cell_type": "code",
      "source": [
        "model.compile(optimizer = 'adam', loss = 'sparse_categorical_crossentropy', metrics = ['accuracy'])"
      ],
      "metadata": {
        "id": "VhRCI2hgFzwL"
      },
      "execution_count": null,
      "outputs": []
    },
    {
      "cell_type": "markdown",
      "source": [
        "94.72% traindan"
      ],
      "metadata": {
        "id": "QFbdhHHNiE3Q"
      }
    },
    {
      "cell_type": "code",
      "source": [
        "model.fit(x_train, y_train, epochs = 10)"
      ],
      "metadata": {
        "id": "N95ygdFBGAel"
      },
      "execution_count": null,
      "outputs": []
    },
    {
      "cell_type": "code",
      "source": [
        "model.evaluate(x_test, y_test)"
      ],
      "metadata": {
        "id": "oJ_9Qiie_kYc"
      },
      "execution_count": null,
      "outputs": []
    },
    {
      "cell_type": "markdown",
      "source": [
        "88.47% natija testdan"
      ],
      "metadata": {
        "id": "YZr_gbPXh7bf"
      }
    },
    {
      "cell_type": "code",
      "source": [
        "model.save('uzimniki.h5')"
      ],
      "metadata": {
        "id": "8VVZf_IY_vTl"
      },
      "execution_count": null,
      "outputs": []
    },
    {
      "cell_type": "code",
      "source": [
        ""
      ],
      "metadata": {
        "id": "VV1W8tMeBeuq"
      },
      "execution_count": null,
      "outputs": []
    }
  ]
}